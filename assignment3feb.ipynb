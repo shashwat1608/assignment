{
 "cells": [
  {
   "cell_type": "code",
   "execution_count": 7,
   "id": "57b58660-eaa6-4998-be08-99652274b08b",
   "metadata": {},
   "outputs": [],
   "source": [
    "#Q1)\n",
    "#def keyword is used to create a function.\n",
    "def oddno(n):\n",
    "    \n",
    "    l=[]\n",
    "    for i in range(1,n+1):\n",
    "        if i%2!=0:\n",
    "            l.append(i)\n",
    "    return l"
   ]
  },
  {
   "cell_type": "code",
   "execution_count": 10,
   "id": "4e1f0a00-82a5-47fb-a54f-c985f6325c49",
   "metadata": {},
   "outputs": [
    {
     "data": {
      "text/plain": [
       "[1, 3, 5, 7, 9, 11, 13, 15, 17, 19, 21, 23, 25]"
      ]
     },
     "execution_count": 10,
     "metadata": {},
     "output_type": "execute_result"
    }
   ],
   "source": [
    "oddno(25)"
   ]
  },
  {
   "cell_type": "code",
   "execution_count": 11,
   "id": "c3ec7bf7-1e9f-4c14-bc91-f000fe6a685d",
   "metadata": {},
   "outputs": [],
   "source": [
    "\"\"\"Q2)We use *args and **kwargs as an argument when we are unsure about the number of arguments to pass in the functions.\n",
    "Python passes variable length non keyword argument to function using *args but we cannot use this to pass keyword argument. For this problem Python has got a solution called **kwargs, it allows us to pass the variable length of keyword arguments to the function.\"\"\"\n",
    "def adder(*num):\n",
    "    sum = 0\n",
    "    \n",
    "    for n in num:\n",
    "        sum = sum + n\n",
    "\n",
    "    print(\"Sum:\",sum)"
   ]
  },
  {
   "cell_type": "code",
   "execution_count": 12,
   "id": "a8bfa924-2253-4681-a19a-1d6ed4084b2c",
   "metadata": {},
   "outputs": [
    {
     "name": "stdout",
     "output_type": "stream",
     "text": [
      "Sum: 11\n"
     ]
    }
   ],
   "source": [
    "adder(5,6)"
   ]
  },
  {
   "cell_type": "code",
   "execution_count": 13,
   "id": "998c0265-6cd1-4fa0-9a98-23aa6c5affc4",
   "metadata": {},
   "outputs": [
    {
     "name": "stdout",
     "output_type": "stream",
     "text": [
      "Sum: 150\n"
     ]
    }
   ],
   "source": [
    "adder(10,20,30,40,50)"
   ]
  },
  {
   "cell_type": "code",
   "execution_count": 20,
   "id": "de665bc8-c6d6-4bb5-8baa-37a51d0b24dd",
   "metadata": {},
   "outputs": [],
   "source": [
    "#Q2)\n",
    "def details(**det):\n",
    "    d=[]\n",
    "    for k,v in det.items():\n",
    "        d.append(k)\n",
    "        d.append(v)\n",
    "    return d\n",
    "        "
   ]
  },
  {
   "cell_type": "code",
   "execution_count": 23,
   "id": "30fa3011-8413-4eef-bf6a-1c664728e752",
   "metadata": {},
   "outputs": [
    {
     "data": {
      "text/plain": [
       "['name', 'shashwat', 'rollno', '189', 'branch', 'information technology']"
      ]
     },
     "execution_count": 23,
     "metadata": {},
     "output_type": "execute_result"
    }
   ],
   "source": [
    "details(name=\"shashwat\",rollno=\"189\",branch=\"information technology\")"
   ]
  },
  {
   "cell_type": "code",
   "execution_count": 1,
   "id": "f266be19-bbc5-47b2-ba7a-0235ae48360b",
   "metadata": {},
   "outputs": [
    {
     "name": "stdout",
     "output_type": "stream",
     "text": [
      "2\n",
      "4\n",
      "6\n",
      "8\n",
      "10\n"
     ]
    }
   ],
   "source": [
    "#Q3)An iterator is an object that contains a countable number of values. An iterator is an object that can be iterated upon, meaning that you can traverse through all the values.\n",
    "l=[2,4,6,8,10,12,14,16,18,20]\n",
    "no=iter(l)\n",
    "for i in range(5):\n",
    "    print(next(no))"
   ]
  },
  {
   "cell_type": "code",
   "execution_count": 2,
   "id": "c4094997-9844-437c-bfac-4d25bf94ffb3",
   "metadata": {},
   "outputs": [
    {
     "name": "stdout",
     "output_type": "stream",
     "text": [
      "0\n",
      "1\n",
      "2\n"
     ]
    }
   ],
   "source": [
    "#Q4)\n",
    "#In Python, a generator is a function that returns an iterator that produces a sequence of values when iterated over.The yield keyword in Python controls the flow of a generator function.\n",
    "def my_generator(n):\n",
    "\n",
    "    \n",
    "    value = 0\n",
    "\n",
    "    \n",
    "    while value < n:\n",
    "\n",
    "        \n",
    "        yield value\n",
    "\n",
    "        \n",
    "        value += 1\n",
    "\n",
    "\n",
    "for value in my_generator(3):\n",
    "\n",
    "   \n",
    "    print(value)"
   ]
  },
  {
   "cell_type": "code",
   "execution_count": 1,
   "id": "c6c38ca1-d1ee-4a9d-8993-4fef94cb1391",
   "metadata": {},
   "outputs": [],
   "source": [
    "def prime(n):\n",
    "    \n",
    "    for i in range(1,1001):\n",
    "        for j in range(2,n-1):\n",
    "            if n%j==0:\n",
    "                yield n"
   ]
  },
  {
   "cell_type": "code",
   "execution_count": 3,
   "id": "5448e3e3-bccd-4069-b527-750d61422242",
   "metadata": {},
   "outputs": [
    {
     "name": "stdout",
     "output_type": "stream",
     "text": [
      "0\n",
      "1\n",
      "1\n",
      "2\n",
      "3\n",
      "5\n",
      "8\n",
      "13\n",
      "21\n",
      "34\n"
     ]
    }
   ],
   "source": [
    "#Q6)\n",
    "count=0\n",
    "sum=0\n",
    "a=0\n",
    "b=1\n",
    "print(a)\n",
    "print(b)\n",
    "while count<8:\n",
    "    c=a+b\n",
    "    a=b\n",
    "    b=c\n",
    "    print(b)\n",
    "    count=count+1\n",
    "    \n",
    "    \n"
   ]
  },
  {
   "cell_type": "code",
   "execution_count": null,
   "id": "1d9c038b-7fff-42ea-9ed0-06d213a4e271",
   "metadata": {},
   "outputs": [],
   "source": [
    "#Q7)\n",
    "s=\"pwskills\"\n",
    "[i for i in s]\n"
   ]
  },
  {
   "cell_type": "code",
   "execution_count": 4,
   "id": "e9157caf-dcd1-4bef-abc8-af8339f608ea",
   "metadata": {},
   "outputs": [
    {
     "name": "stdin",
     "output_type": "stream",
     "text": [
      "enter the no 121\n"
     ]
    },
    {
     "name": "stdout",
     "output_type": "stream",
     "text": [
      "palindrome no\n"
     ]
    }
   ],
   "source": [
    "#Q8)\n",
    "n=int(input(\"enter the no\"))\n",
    "rev=0\n",
    "original=n\n",
    "while n>0:\n",
    "    last=n%10\n",
    "    rev=rev*10+last\n",
    "    n=n//10\n",
    "if original==rev:\n",
    "    print(\"palindrome no\")\n",
    "else:\n",
    "    print(\"not a palindrome no\")"
   ]
  },
  {
   "cell_type": "code",
   "execution_count": 6,
   "id": "cae3b68b-b48d-4a13-bfa7-326dbfb6e6f8",
   "metadata": {},
   "outputs": [
    {
     "data": {
      "text/plain": [
       "[1,\n",
       " 3,\n",
       " 5,\n",
       " 7,\n",
       " 9,\n",
       " 11,\n",
       " 13,\n",
       " 15,\n",
       " 17,\n",
       " 19,\n",
       " 21,\n",
       " 23,\n",
       " 25,\n",
       " 27,\n",
       " 29,\n",
       " 31,\n",
       " 33,\n",
       " 35,\n",
       " 37,\n",
       " 39,\n",
       " 41,\n",
       " 43,\n",
       " 45,\n",
       " 47,\n",
       " 49,\n",
       " 51,\n",
       " 53,\n",
       " 55,\n",
       " 57,\n",
       " 59,\n",
       " 61,\n",
       " 63,\n",
       " 65,\n",
       " 67,\n",
       " 69,\n",
       " 71,\n",
       " 73,\n",
       " 75,\n",
       " 77,\n",
       " 79,\n",
       " 81,\n",
       " 83,\n",
       " 85,\n",
       " 87,\n",
       " 89,\n",
       " 91,\n",
       " 93,\n",
       " 95,\n",
       " 97,\n",
       " 99]"
      ]
     },
     "execution_count": 6,
     "metadata": {},
     "output_type": "execute_result"
    }
   ],
   "source": [
    "#Q9)\n",
    "[j for j in [i for i in range(1,101)] if j%2!=0]"
   ]
  },
  {
   "cell_type": "code",
   "execution_count": 6,
   "id": "355d3008-4842-4d36-bff8-b91a5a07ca7a",
   "metadata": {},
   "outputs": [],
   "source": [
    "#Q5)\n",
    "def primes():\n",
    "    yield 2\n",
    "    primes_so_far = [2]\n",
    "    n = 10\n",
    "    while n < 1000:\n",
    "        is_prime = True\n",
    "        for p in primes_so_far:\n",
    "            if p**2 > n:\n",
    "                break\n",
    "            if n % p == 0:\n",
    "                is_prime = False\n",
    "                break\n",
    "            if is_prime:\n",
    "                yield n\n",
    "                primes_so_far.append(n)\n",
    "            n += 2\n",
    "        prime_gen = primes()\n",
    "        for i in range(20):\n",
    "            print(next(prime_gen))\n",
    "            "
   ]
  },
  {
   "cell_type": "code",
   "execution_count": null,
   "id": "5fc352d7-7a16-42f7-9d57-90fc63520a1d",
   "metadata": {},
   "outputs": [],
   "source": []
  }
 ],
 "metadata": {
  "kernelspec": {
   "display_name": "Python 3 (ipykernel)",
   "language": "python",
   "name": "python3"
  },
  "language_info": {
   "codemirror_mode": {
    "name": "ipython",
    "version": 3
   },
   "file_extension": ".py",
   "mimetype": "text/x-python",
   "name": "python",
   "nbconvert_exporter": "python",
   "pygments_lexer": "ipython3",
   "version": "3.10.8"
  }
 },
 "nbformat": 4,
 "nbformat_minor": 5
}

{
 "cells": [
  {
   "cell_type": "code",
   "execution_count": null,
   "id": "392a30a7-7399-476d-8068-1ae58b3d6236",
   "metadata": {},
   "outputs": [],
   "source": [
    "\"\"\"Q1)The for loop is used when we already know the number of iterations, which means when we know how many times a statement has to be executed. That is why we have to specify the ending point in the for loop initialization.\n",
    "\n",
    "When we need to end the loop on a condition other than the number of times, we use a while loop.\"\"\""
   ]
  },
  {
   "cell_type": "code",
   "execution_count": 2,
   "id": "cda63222-8baf-4045-b4e6-ab1c292be350",
   "metadata": {},
   "outputs": [
    {
     "name": "stdout",
     "output_type": "stream",
     "text": [
      "55\n"
     ]
    }
   ],
   "source": [
    "#Q2)\n",
    "sum=0;\n",
    "for i in range(1,11):\n",
    "    sum=sum+i;\n",
    "print(sum);"
   ]
  },
  {
   "cell_type": "code",
   "execution_count": 4,
   "id": "462e91af-5f51-437e-b86c-2318fad70716",
   "metadata": {},
   "outputs": [
    {
     "name": "stdout",
     "output_type": "stream",
     "text": [
      "55\n"
     ]
    }
   ],
   "source": [
    "#Q2)\n",
    "sum=0;\n",
    "num=10;\n",
    "while (num>0):\n",
    "    sum=sum+num\n",
    "    num=num-1\n",
    "print(sum)"
   ]
  },
  {
   "cell_type": "code",
   "execution_count": 5,
   "id": "961d85ff-8d70-4739-9f6e-b4d399a45563",
   "metadata": {},
   "outputs": [
    {
     "name": "stdout",
     "output_type": "stream",
     "text": [
      "3628800\n"
     ]
    }
   ],
   "source": [
    "#Q2)\n",
    "product=1;\n",
    "for i in range(1,11):\n",
    "    product=product*i;\n",
    "print(product);"
   ]
  },
  {
   "cell_type": "code",
   "execution_count": 7,
   "id": "cbe3cc68-5c48-4a2b-a455-2e7652ef3eae",
   "metadata": {},
   "outputs": [
    {
     "name": "stdout",
     "output_type": "stream",
     "text": [
      "3628800\n"
     ]
    }
   ],
   "source": [
    "#Q2)\n",
    "product=1;\n",
    "num=10;\n",
    "while (num>0):\n",
    "    product=product*num\n",
    "    num=num-1\n",
    "print(product)"
   ]
  },
  {
   "cell_type": "code",
   "execution_count": 11,
   "id": "f47ad3cd-f443-4036-b0ab-c1830e31f11d",
   "metadata": {},
   "outputs": [
    {
     "name": "stdin",
     "output_type": "stream",
     "text": [
      "enter the no of units 310 \n"
     ]
    },
    {
     "name": "stdout",
     "output_type": "stream",
     "text": [
      "Rs 2250.0\n"
     ]
    }
   ],
   "source": [
    "#Q3)\n",
    "units=int(input(\"enter the no of units\"))\n",
    "if(units<=100):\n",
    "    total=float(4.5)*units\n",
    "    print(total)\n",
    "elif((units>100) and (units<=200)):\n",
    "    total=6*(units-100)+float(4.5)*100\n",
    "    print(total)\n",
    "elif((units>200) and (units<=300)):\n",
    "    total=10*(units-200)+6*100+float(4.5)*100\n",
    "    print(total)\n",
    "elif(units>300):\n",
    "    total=20*(units-300)+10*100+6*100+float(4.5)*100\n",
    "    print( \"Rs\",total)\n",
    "    \n",
    "\n",
    "\n"
   ]
  },
  {
   "cell_type": "code",
   "execution_count": 15,
   "id": "f9e83527-631e-4a7e-a0da-3d6ad4e6605f",
   "metadata": {},
   "outputs": [
    {
     "name": "stdout",
     "output_type": "stream",
     "text": [
      "[8, 64, 125, 216, 512, 1000, 1728, 2744, 3375, 4096, 5832, 8000, 10648, 13824, 15625, 17576, 21952, 27000, 32768, 39304, 42875, 46656, 54872, 64000, 74088, 85184, 91125, 97336, 110592, 125000, 140608, 157464, 166375, 175616, 195112, 216000, 238328, 262144, 274625, 287496, 314432, 343000, 373248, 405224, 421875, 438976, 474552, 512000, 551368, 592704, 614125, 636056, 681472, 729000, 778688, 830584, 857375, 884736, 941192, 1000000]\n"
     ]
    }
   ],
   "source": [
    "#Q4)\n",
    "l1=[]\n",
    "l2=[]\n",
    "for i in range(1,101):\n",
    "    l1.append(i)\n",
    "for i in l1:\n",
    "    c=i*i*i\n",
    "    if((c%4==0) or (c%5==0)):\n",
    "        l2.append(c)\n",
    "print(l2)"
   ]
  },
  {
   "cell_type": "code",
   "execution_count": 1,
   "id": "35068d90-3b0b-44b6-947e-bd63c41d77ed",
   "metadata": {},
   "outputs": [
    {
     "name": "stdout",
     "output_type": "stream",
     "text": [
      "12\n"
     ]
    }
   ],
   "source": [
    "#Q5\n",
    "string=\"I want to become a data scientist\"\n",
    "l1=[]\n",
    "for i in string[0::1]:\n",
    "    if(i=='a'or i=='e' or i=='o' or i=='u' or i=='i' or i=='I'):\n",
    "        l1.append(i)\n",
    "print(len(l1))"
   ]
  },
  {
   "cell_type": "code",
   "execution_count": null,
   "id": "755dbddd-f65e-4fbc-80ce-a6eaaff4d3d0",
   "metadata": {},
   "outputs": [],
   "source": [
    "#Q4)\n",
    "l1=[]\n",
    "l2=[]\n",
    "for i in range(1,101):\n",
    "    l1.append(i)\n",
    "i=100\n",
    "while i<101:\n",
    "    c=i*i*i\n",
    "    i=i-1\n",
    "    if((c%4==0) or (c%5==0)):\n",
    "        l2.append(c)\n",
    "print(l2)"
   ]
  }
 ],
 "metadata": {
  "kernelspec": {
   "display_name": "Python 3 (ipykernel)",
   "language": "python",
   "name": "python3"
  },
  "language_info": {
   "codemirror_mode": {
    "name": "ipython",
    "version": 3
   },
   "file_extension": ".py",
   "mimetype": "text/x-python",
   "name": "python",
   "nbconvert_exporter": "python",
   "pygments_lexer": "ipython3",
   "version": "3.10.8"
  }
 },
 "nbformat": 4,
 "nbformat_minor": 5
}
